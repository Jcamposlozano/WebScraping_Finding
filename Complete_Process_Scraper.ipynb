{
 "cells": [
  {
   "cell_type": "code",
   "execution_count": 2,
   "metadata": {},
   "outputs": [],
   "source": [
    "from bs4 import BeautifulSoup\n",
    "import pandas as pd\n",
    "import re\n",
    "import requests\n",
    "from selenium import webdriver\n",
    "from selenium.webdriver.support.ui import WebDriverWait\n",
    "from selenium.webdriver.support import expected_conditions as EC\n",
    "from selenium.webdriver.support.ui import Select\n",
    "import time\n",
    "from selenium.webdriver.common.by import By\n",
    "import requests\n",
    "import ast\n",
    "import plotly.graph_objects as go\n",
    "import plotly.express as px\n",
    "from tqdm import tqdm\n",
    "from datetime import datetime"
   ]
  },
  {
   "cell_type": "code",
   "execution_count": 87,
   "metadata": {},
   "outputs": [],
   "source": [
    "\n",
    "df_datasets = pd.read_excel('./src/Palabras Claves.xlsx')\n"
   ]
  },
  {
   "cell_type": "code",
   "execution_count": 88,
   "metadata": {},
   "outputs": [],
   "source": [
    "\n",
    "#df_datasets = df_datasets[df_datasets['Words'].str.contains('Analytical modeling|Food insecurity')]\n",
    "#df_datasets.reset_index(drop=True, inplace=True)\n",
    "#df_datasets"
   ]
  },
  {
   "cell_type": "code",
   "execution_count": 89,
   "metadata": {},
   "outputs": [],
   "source": [
    "driver = webdriver.Chrome()\n",
    "# Abre la página web\n",
    "campo = 'auxiliar de contabilidad'\n",
    "url = 'https://grants.nih.gov/funding/searchguide/index.html#/'\n",
    "driver.get(url)"
   ]
  },
  {
   "cell_type": "code",
   "execution_count": 90,
   "metadata": {},
   "outputs": [],
   "source": [
    "\n",
    "def find_number_results(word):\n",
    "\n",
    "    input_element = driver.find_element(By.ID, \"searchInputBox\")\n",
    "    input_element.clear()\n",
    "    \n",
    "\n",
    "    input_element.send_keys(f'\"{word}\"')\n",
    "    time.sleep(7)\n",
    "    driver.find_element(By.CLASS_NAME, \"input-group-text.primary\").click()\n",
    "\n",
    "    time.sleep(7)\n",
    "\n",
    "    try:\n",
    "        soup = BeautifulSoup(driver.page_source, 'html.parser')\n",
    "        span_tag = soup.find('span', attrs={'ng-show': 'totalresults > 0'}).text\n",
    "        expresion_regular = r\"Displaying: \\d+ to \\d+ of (\\d+) results\"\n",
    "        resultado = re.search(expresion_regular, span_tag)\n",
    "        valor_total = int(resultado.group(1))\n",
    "        return word, valor_total\n",
    "    except:\n",
    "        return word, 0\n"
   ]
  },
  {
   "cell_type": "code",
   "execution_count": 91,
   "metadata": {},
   "outputs": [
    {
     "name": "stderr",
     "output_type": "stream",
     "text": [
      "Procesando palabras: 100%|██████████| 372/372 [1:35:24<00:00, 15.39s/it]\n"
     ]
    },
    {
     "name": "stdout",
     "output_type": "stream",
     "text": [
      "Proceso completado. Resultados almacenados en df_resultado.\n"
     ]
    }
   ],
   "source": [
    "results = []\n",
    "\n",
    "list = {}\n",
    "total_words = len(df_datasets)  \n",
    "\n",
    "select_element = driver.find_element(By.ID, 'inlineType')\n",
    "select = Select(select_element)\n",
    "select.select_by_value('object:7')\n",
    "\n",
    "for i in tqdm(range(total_words), desc=\"Procesando palabras\"):\n",
    "    #print(df_datasets['Words'][i])\n",
    "    temporal = find_number_results(df_datasets['Words'][i])\n",
    "    results.append([temporal[0], temporal[1]])\n",
    "\n",
    "    if int(temporal[1]) > 0 and  int(temporal[1])<100:\n",
    "        select_element = driver.find_element(By.ID, \"selectPerPage\")\n",
    "        select = Select(select_element)\n",
    "        select.select_by_value(\"number:100\")\n",
    "\n",
    "        \n",
    "        soup = ''\n",
    "        #driver.execute_script(\"window.scrollTo(0, 0);\")\n",
    "        time.sleep(5)\n",
    "        soup = BeautifulSoup (driver.page_source, 'html.parser')\n",
    "            \n",
    "        for row in soup.select('tr.ng-scope'):\n",
    "            funding = {}\n",
    "            url = row.select('td a')[0]['href']\n",
    "            #print(url)\n",
    "            funding['word'] = df_datasets['Words'][i]\n",
    "            funding['title'] = row.select('td')[0].text.strip()\n",
    "            funding['nofo'] = row.select('td')[1].text.strip()\n",
    "            funding['issuing_organitation'] = row.select('td')[2].text.strip()\n",
    "\n",
    "            release_date = row.select('td')[3].text.strip()\n",
    "            if release_date != 'N/A':\n",
    "                funding['release_date'] = datetime.strptime(release_date, '%b %d, %Y')\n",
    "            else:\n",
    "                funding['release_date'] = release_date\n",
    "\n",
    "            expiration = row.select('td')[4].text.strip()\n",
    "            if expiration != 'N/A':\n",
    "                funding['expiration'] = datetime.strptime(expiration, '%b %d, %Y')\n",
    "            else:\n",
    "                funding['expiration'] = expiration\n",
    "\n",
    "            funding['activity_code'] = row.select('td')[5].text.strip()\n",
    "            list[url] = funding\n",
    "\n",
    "driver.quit()\n",
    "\n",
    "df = pd.DataFrame.from_dict(list, orient='index')\n",
    "df['url'] = df.index\n",
    "\n",
    "df = df.reset_index(drop=True)\n",
    "df.head()\n",
    "df.to_excel('./src/listado.xlsx')\n",
    "\n",
    "\n",
    "df_resultado = pd.DataFrame(results, columns=['words', 'Results'])\n",
    "\n",
    "print(\"Proceso completado. Resultados almacenados en df_resultado.\")\n",
    "df_resultado.to_excel('./src/Resultados.xlsx')\n",
    "\n",
    "\n"
   ]
  },
  {
   "cell_type": "markdown",
   "metadata": {},
   "source": [
    "#################################################################\n",
    "\n",
    "Segunda Parte\n",
    "\n",
    "#################################################################"
   ]
  },
  {
   "cell_type": "markdown",
   "metadata": {},
   "source": [
    "### Recorrido por cada una de las URLS"
   ]
  },
  {
   "cell_type": "code",
   "execution_count": 5,
   "metadata": {},
   "outputs": [],
   "source": [
    "pd_listado_url = pd.read_excel('./listado.xlsx')"
   ]
  },
  {
   "cell_type": "code",
   "execution_count": 60,
   "metadata": {},
   "outputs": [
    {
     "name": "stdout",
     "output_type": "stream",
     "text": [
      "https://grants.nih.gov/grants/guide/notice-files/NOT-OD-22-135.html  -  Notice of Special Interest (NOSI): Stimulating Research to Understand and Address Hunger, Food and Nutrition Insecurity\n",
      "\n",
      "\n",
      "Notice of Special Interest (NOSI): Stimulating Research to Understand and Address Hunger, Food and Nutrition Insecurity\n",
      "https://grants.nih.gov/grants/guide/rfa-files/RFA-MD-24-005.html  -  Elucidating Mechanisms Associated with HIV Related Co-Morbidities in Populations Experiencing Health Disparities (R01 - Clinical Trials Not Allowed)\n",
      "https://grants.nih.gov/grants/guide/pa-files/PAS-24-163.html  -  Priority HIV/AIDS Research within the Mission of NIDDK (R01 Clinical Trial Optional)\n",
      "https://grants.nih.gov/grants/guide/rfa-files/RFA-DK-25-001.html  -  Addressing the Impact of Syndemics on the Health of People with HIV and Diseases and Conditions within the Missions of NIDDK and NHLBI (R01 Clinical Trial Optional)\n",
      "https://grants.nih.gov/grants/guide/rfa-files/RFA-DA-25-048.html  -  Seeking Products to Address Social Needs impacting Substance Use Disorders (SUD) (R43/R44 Clinical Trial Optional)\n",
      "https://grants.nih.gov/grants/guide/rfa-files/RFA-DA-25-047.html  -  Seeking Products to Address Social Needs impacting Substance Use Disorders (SUD) (R41/R42 Clinical Trial Optional)\n",
      "https://grants.nih.gov/grants/guide/pa-files/PAR-24-162.html  -  Pilot Studies of Biological, Behavioral and Social Mechanisms Contributing to HIV Pathogenesis Within the Mission of NIDDK (R21 Clinical Trial Not Allowed)\n",
      "https://grants.nih.gov/grants/guide/pa-files/PAR-24-207.html  -  Interventions to Address Disparities in Liver Diseases and Liver Cancer (R01 - Clinical Trials Optional)\n",
      "https://grants.nih.gov/grants/guide/pa-files/PAR-24-077.html  -  Addressing Health and Health Care Disparities among Sexual and Gender Minority Populations (R01 - Clinical Trials Optional)\n",
      "https://grants.nih.gov/grants/guide/rfa-files/RFA-DA-25-003.html  -  Cohort Studies of HIV/AIDS and Substance Use (U01 Clinical Trial Not Allowed)\n"
     ]
    }
   ],
   "source": [
    "for i in range(len(pd_listado_url.head(10))):\n",
    "\n",
    "    print(pd_listado_url['url'][i], ' - ', pd_listado_url['title'][i])\n",
    "    \n",
    "    response = requests.get(pd_listado_url['url'][i])\n",
    "    html_content = response.text\n",
    "\n",
    "    html = BeautifulSoup (html_content, 'html.parser')\n",
    "\n",
    "    nombre_archivo = str('./funding/{}.txt').format(str(pd_listado_url['url'][i]).split('/')[-1:][0].replace('.html',''))\n",
    "    with open(nombre_archivo, 'w') as archivo:\n",
    "        archivo.write(str(html))\n",
    "    time.sleep(3)\n",
    "    "
   ]
  },
  {
   "cell_type": "code",
   "execution_count": null,
   "metadata": {},
   "outputs": [],
   "source": []
  }
 ],
 "metadata": {
  "kernelspec": {
   "display_name": "webscraping",
   "language": "python",
   "name": "python3"
  },
  "language_info": {
   "codemirror_mode": {
    "name": "ipython",
    "version": 3
   },
   "file_extension": ".py",
   "mimetype": "text/x-python",
   "name": "python",
   "nbconvert_exporter": "python",
   "pygments_lexer": "ipython3",
   "version": "3.8.19"
  }
 },
 "nbformat": 4,
 "nbformat_minor": 2
}
